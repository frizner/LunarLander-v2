{
 "cells": [
  {
   "cell_type": "markdown",
   "metadata": {},
   "source": [
    "# LunarLander v2\n",
    "## The description of the task\n",
    "Landing pad is always at coordinates (0,0). Coordinates are the first two numbers in state vector. Reward for moving from the top of the screen to landing pad and zero speed is about 100..140 points. If lander moves away from landing pad it loses reward back. Episode finishes if the lander crashes or comes to rest, receiving additional -100 or +100 points. Each leg ground contact is +10. Firing main engine is -0.3 points each frame. Solved is 200 points. Landing outside landing pad is possible. Fuel is infinite, so an agent can learn to fly and then land on its first attempt. Four discrete actions available: do nothing, fire left orientation engine, fire main engine, fire right orientation engine.\n",
    "\n",
    "Source: https://gym.openai.com/envs/LunarLander-v2/\n",
    "\n",
    "## Approach to resolve the task\n",
    "\n",
    "To resolve the task has been used a deep Q-network (DQN), implemented by Keras framework. The best model and optimal hyper parameters found by a grid search, running `lunarlander.py` script."
   ]
  },
  {
   "cell_type": "markdown",
   "metadata": {},
   "source": [
    "![Ideal landing. 2010th episode](lunarlander.gif)"
   ]
  },
  {
   "cell_type": "markdown",
   "metadata": {},
   "source": [
    "The search grid can be set by editing `lunarlander.py`, for the instance:\n",
    "```python\n",
    "    # Grid parameters\n",
    "    num_learns = [1, 2]\n",
    "    epochs = [1,4]\n",
    "    lookbacks = [10000, 20000, 30000]\n",
    "    batch_sizes = [32]\n",
    "```\n",
    "where:\n",
    "* `num_learn` - how many independent batches and fitting procedure will be used to fit the model after the each step;\n",
    "* `epochs` - the number of epochs for each running the fit procedure;\n",
    "* `lookbacks` - the deep of a data history used to get the batches;\n",
    "* `batch_sizes` - the size of batch to the model;\n",
    "\n",
    "### Running the script\n",
    "Activating a conda virtual environment and running the script:\n",
    "```python\n",
    "source activate /opt/envs/ML\n",
    "setsid python lunarlander.py > ll.log 2>&1\n",
    "```"
   ]
  },
  {
   "cell_type": "markdown",
   "metadata": {},
   "source": [
    "Checking the perfomance of model(s):"
   ]
  },
  {
   "cell_type": "code",
   "execution_count": 3,
   "metadata": {},
   "outputs": [
    {
     "name": "stdout",
     "output_type": "stream",
     "text": [
      "ll-128relu-64relu-4linear-nl1-epochs1-lb30000-bs32 TEST 210: [10  0  0] -78 -48 -58 [0 7 3 0] -2 2 -1\n",
      "ll-128relu-64relu-4linear-nl1-epochs1-lb30000-bs32 TEST 410: [0 8 2] 89 215 178 [0 2 1 7] -0 100 100\n",
      "ll-128relu-64relu-4linear-nl1-epochs1-lb30000-bs32 TEST 610: [2 6 2] -14 225 143 [1 1 0 8] -100 100 100\n",
      "ll-128relu-64relu-4linear-nl1-epochs1-lb30000-bs32 TEST 810: [3 3 4] -63 267 113 [2 1 2 5] -100 100 50\n",
      "ll-128relu-64relu-4linear-nl1-epochs1-lb30000-bs32 TEST 1010: [ 0  0 10] 239 285 266 [ 0  0  0 10] 100 100 100\n",
      "ll-128relu-64relu-4linear-nl1-epochs1-lb30000-bs32 TEST 1210: [0 2 8] 102 299 250 [0 1 1 8] -0 100 100\n",
      "ll-128relu-64relu-4linear-nl1-epochs1-lb30000-bs32 TEST 1410: [ 0  0 10] 237 308 281 [ 0  0  0 10] 100 100 100\n",
      "ll-128relu-64relu-4linear-nl1-epochs1-lb30000-bs32 TEST 1610: [ 0  0 10] 217 296 250 [ 0  0  0 10] 100 100 100\n",
      "ll-128relu-64relu-4linear-nl1-epochs1-lb30000-bs32 TEST 1810: [ 0  0 10] 230 305 283 [ 0  0  0 10] 100 100 100\n",
      "ll-128relu-64relu-4linear-nl1-epochs1-lb30000-bs32 TEST 2010: [ 0  0 10] 257 295 271 [ 0  0  0 10] 100 100 100\n"
     ]
    }
   ],
   "source": [
    "!grep TEST ll.log"
   ]
  },
  {
   "cell_type": "markdown",
   "metadata": {},
   "source": [
    "where, for instance `ll-128relu-64relu-4linear-nl1-epochs1-lb30000-bs32 TEST 410: [0 8 2] 89 215 178 [0 2 1 7] -0 100 100` row:\n",
    "* `128relu-64relu-4linear` - dense neural network with 128 input, 64 hidden and 4 output neurons with `relu` activation for first two layers and `linear` activation for output layer respectively;\n",
    "* `nl1` - paramter `num_learn`=1;\n",
    "* `epochs1` - one epoch for each fitting;\n",
    "* `lb30000` - using 30000 last steps in the data history to get the batch;\n",
    "* `bs32` - batch size is set to 32;\n",
    "* `410` - the test running with 10 episodes and the epsilon parameter equal 0 after 400 episodes of training;\n",
    "* `[0 8 2]` - 0 episodes are finished with summarized reward <= 0, 8 episodes >0 and <= 200 and 2 episodes with summarized reward > 200;\n",
    "* `89` - the minimal summarized reward;\n",
    "* `215` - the maximal summarized reward;\n",
    "* `178` - the median summarized reward;\n",
    "* `[0 2 1 7]` - 0 episodes were finished with the last reward equal -100, -100 < 2 episodes <=0, 0 < 1 episode < 100, 7 episodes with last reward equal 100;\n",
    "* `-0` - a liitle less than 0, the minimal last reward;\n",
    "* `100` - the maximal last reward;\n",
    "* `100` - the median last reward;"
   ]
  },
  {
   "cell_type": "markdown",
   "metadata": {},
   "source": [
    "Copying the perspective models by episodes:"
   ]
  },
  {
   "cell_type": "code",
   "execution_count": 4,
   "metadata": {},
   "outputs": [],
   "source": [
    "!cp data/ll-128relu-64relu-4linear-nl1-epochs1-lb30000-bs32-model-410.h5 models/.\n",
    "!cp data/ll-128relu-64relu-4linear-nl1-epochs1-lb30000-bs32-model-1010.h5 models/.\n",
    "!cp data/ll-128relu-64relu-4linear-nl1-epochs1-lb30000-bs32-model-1410.h5 models/.\n",
    "!cp data/ll-128relu-64relu-4linear-nl1-epochs1-lb30000-bs32-model-1610.h5 models/.\n",
    "!cp data/ll-128relu-64relu-4linear-nl1-epochs1-lb30000-bs32-model-1810.h5 models/.\n",
    "!cp data/ll-128relu-64relu-4linear-nl1-epochs1-lb30000-bs32-model-2010.h5 models/."
   ]
  },
  {
   "cell_type": "markdown",
   "metadata": {},
   "source": [
    "[The progress in learning by episodes](https://youtu.be/GSNgYPWdHQA).\n",
    "\n",
    "[![Skills by episodes](https://img.youtube.com/vi/GSNgYPWdHQA/0.jpg)](https://youtu.be/GSNgYPWdHQA/watch?v=GSNgYPWdHQA)"
   ]
  },
  {
   "cell_type": "markdown",
   "metadata": {},
   "source": [
    "## Detailed analysis of the performance of the perspective models."
   ]
  },
  {
   "cell_type": "code",
   "execution_count": 8,
   "metadata": {},
   "outputs": [],
   "source": [
    "import gym\n",
    "import numpy as np\n",
    "import seaborn as sns\n",
    "import pandas as pd\n",
    "import matplotlib.pyplot as plt\n",
    "import glob\n",
    "import ntpath\n",
    "import re\n",
    "\n",
    "from keras.models import load_model"
   ]
  },
  {
   "cell_type": "code",
   "execution_count": 2,
   "metadata": {},
   "outputs": [],
   "source": [
    "%matplotlib inline\n",
    "sns.set(rc={'figure.figsize':(11.7,8.27)})\n",
    "sns.set_style(\"whitegrid\", {'grid.linestyle': '--'})"
   ]
  },
  {
   "cell_type": "code",
   "execution_count": 12,
   "metadata": {},
   "outputs": [],
   "source": [
    "MODELDIR='models'\n",
    "model_file_mask = f'{MODELDIR}/*h5'\n",
    "\n",
    "df = pd.DataFrame(\n",
    "    columns={\n",
    "        'model': str,\n",
    "        'episode': np.uint,\n",
    "        'step': np.uint,\n",
    "        'reward': np.float,\n",
    "        'done': np.bool\n",
    "    }\n",
    ")\n",
    "\n",
    "env = gym.make('LunarLander-v2')\n",
    "\n",
    "# N is number of running for the each model\n",
    "N=100\n",
    "\n",
    "RE_MODEL_PATTERN = r'll-(\\S+)-nl(\\d+)-epochs(\\d+)-lb(\\d+)-bs(\\d+)-model-(\\d+)'"
   ]
  },
  {
   "cell_type": "code",
   "execution_count": 13,
   "metadata": {},
   "outputs": [],
   "source": [
    "def parce_model(line):\n",
    "    g = re.match(RE_MODEL_PATTERN, str(line))\n",
    "    if g:\n",
    "        grps = g.groups()\n",
    "        return grps"
   ]
  },
  {
   "cell_type": "markdown",
   "metadata": {},
   "source": [
    "Run the each model N times:"
   ]
  },
  {
   "cell_type": "code",
   "execution_count": 14,
   "metadata": {
    "scrolled": false
   },
   "outputs": [],
   "source": [
    "for file in glob.glob(model_file_mask):\n",
    "    name = ntpath.basename(file).split('.')[0]\n",
    "    model_par = parce_model(name)\n",
    "    with open(file, encoding='utf-8') as f:\n",
    "        model = load_model(file)\n",
    "        for i in range(N):\n",
    "            s = env.reset()\n",
    "            s = s.reshape(1, 8)\n",
    "            done = False\n",
    "            step = 1\n",
    "            while not done:\n",
    "                s_pred = model.predict(s)\n",
    "                a = np.argmax(s_pred)\n",
    "                new_s, r, done, _ = env.step(a)\n",
    "                s = new_s.reshape(1, 8)\n",
    "                df = df.append(\n",
    "                    {\n",
    "                        'model': name,\n",
    "                        'nn': model_par[0],\n",
    "                        'nl': model_par[1],\n",
    "                        'epochs': model_par[2],\n",
    "                        'lb': model_par[3],\n",
    "                        'bs': model_par[4],\n",
    "                        'train_ep': model_par[5],\n",
    "                        'episode': i,\n",
    "                        'step': step,\n",
    "                        'reward': r,\n",
    "                        'done': done\n",
    "                    },\n",
    "                    ignore_index=True\n",
    "                )\n",
    "                step+=1"
   ]
  },
  {
   "cell_type": "markdown",
   "metadata": {},
   "source": [
    "Getting the last rewards for the each test and groupping by the models:"
   ]
  },
  {
   "cell_type": "code",
   "execution_count": 15,
   "metadata": {},
   "outputs": [],
   "source": [
    "lr = df[df['done']].copy()\n",
    "lr_groups = lr.groupby(['model'])"
   ]
  },
  {
   "cell_type": "markdown",
   "metadata": {},
   "source": [
    "Creating bins/histograms for the last rewards"
   ]
  },
  {
   "cell_type": "code",
   "execution_count": 16,
   "metadata": {},
   "outputs": [],
   "source": [
    "lsr_bins = [-np.inf, -100, 0, 100-np.finfo(np.float16).eps, 100]\n",
    "lr['reward_cat'] = lr_groups['reward'].apply(pd.cut, bins=lsr_bins, labels=['supneg', 'neg', 'pos', 'suppos'])"
   ]
  },
  {
   "cell_type": "code",
   "execution_count": 17,
   "metadata": {},
   "outputs": [
    {
     "data": {
      "text/html": [
       "<div>\n",
       "<style>\n",
       "    .dataframe thead tr:only-child th {\n",
       "        text-align: right;\n",
       "    }\n",
       "\n",
       "    .dataframe thead th {\n",
       "        text-align: left;\n",
       "    }\n",
       "\n",
       "    .dataframe tbody tr th {\n",
       "        vertical-align: top;\n",
       "    }\n",
       "</style>\n",
       "<table border=\"1\" class=\"dataframe\">\n",
       "  <thead>\n",
       "    <tr style=\"text-align: right;\">\n",
       "      <th>reward_cat</th>\n",
       "      <th>neg</th>\n",
       "      <th>pos</th>\n",
       "      <th>supneg</th>\n",
       "      <th>suppos</th>\n",
       "    </tr>\n",
       "    <tr>\n",
       "      <th>model</th>\n",
       "      <th></th>\n",
       "      <th></th>\n",
       "      <th></th>\n",
       "      <th></th>\n",
       "    </tr>\n",
       "  </thead>\n",
       "  <tbody>\n",
       "    <tr>\n",
       "      <th>ll-128relu-64relu-4linear-nl1-epochs1-lb30000-bs32-model-1010</th>\n",
       "      <td>5.0</td>\n",
       "      <td>3.0</td>\n",
       "      <td>2.0</td>\n",
       "      <td>90.0</td>\n",
       "    </tr>\n",
       "    <tr>\n",
       "      <th>ll-128relu-64relu-4linear-nl1-epochs1-lb30000-bs32-model-1410</th>\n",
       "      <td>NaN</td>\n",
       "      <td>NaN</td>\n",
       "      <td>NaN</td>\n",
       "      <td>100.0</td>\n",
       "    </tr>\n",
       "    <tr>\n",
       "      <th>ll-128relu-64relu-4linear-nl1-epochs1-lb30000-bs32-model-1610</th>\n",
       "      <td>6.0</td>\n",
       "      <td>3.0</td>\n",
       "      <td>NaN</td>\n",
       "      <td>91.0</td>\n",
       "    </tr>\n",
       "    <tr>\n",
       "      <th>ll-128relu-64relu-4linear-nl1-epochs1-lb30000-bs32-model-1810</th>\n",
       "      <td>2.0</td>\n",
       "      <td>NaN</td>\n",
       "      <td>NaN</td>\n",
       "      <td>98.0</td>\n",
       "    </tr>\n",
       "    <tr>\n",
       "      <th>ll-128relu-64relu-4linear-nl1-epochs1-lb30000-bs32-model-2010</th>\n",
       "      <td>NaN</td>\n",
       "      <td>NaN</td>\n",
       "      <td>NaN</td>\n",
       "      <td>100.0</td>\n",
       "    </tr>\n",
       "  </tbody>\n",
       "</table>\n",
       "</div>"
      ],
      "text/plain": [
       "reward_cat                                          neg  pos  supneg  suppos\n",
       "model                                                                       \n",
       "ll-128relu-64relu-4linear-nl1-epochs1-lb30000-b...  5.0  3.0     2.0    90.0\n",
       "ll-128relu-64relu-4linear-nl1-epochs1-lb30000-b...  NaN  NaN     NaN   100.0\n",
       "ll-128relu-64relu-4linear-nl1-epochs1-lb30000-b...  6.0  3.0     NaN    91.0\n",
       "ll-128relu-64relu-4linear-nl1-epochs1-lb30000-b...  2.0  NaN     NaN    98.0\n",
       "ll-128relu-64relu-4linear-nl1-epochs1-lb30000-b...  NaN  NaN     NaN   100.0"
      ]
     },
     "execution_count": 17,
     "metadata": {},
     "output_type": "execute_result"
    }
   ],
   "source": [
    "lrhist = lr.groupby('model')['reward_cat'].value_counts().unstack()\n",
    "lrhist.head(5)"
   ]
  },
  {
   "cell_type": "markdown",
   "metadata": {},
   "source": [
    "### The models that only have max possible last rewards"
   ]
  },
  {
   "cell_type": "code",
   "execution_count": 18,
   "metadata": {},
   "outputs": [
    {
     "data": {
      "text/html": [
       "<div>\n",
       "<style>\n",
       "    .dataframe thead tr:only-child th {\n",
       "        text-align: right;\n",
       "    }\n",
       "\n",
       "    .dataframe thead th {\n",
       "        text-align: left;\n",
       "    }\n",
       "\n",
       "    .dataframe tbody tr th {\n",
       "        vertical-align: top;\n",
       "    }\n",
       "</style>\n",
       "<table border=\"1\" class=\"dataframe\">\n",
       "  <thead>\n",
       "    <tr style=\"text-align: right;\">\n",
       "      <th>reward_cat</th>\n",
       "      <th>neg</th>\n",
       "      <th>pos</th>\n",
       "      <th>supneg</th>\n",
       "      <th>suppos</th>\n",
       "    </tr>\n",
       "    <tr>\n",
       "      <th>model</th>\n",
       "      <th></th>\n",
       "      <th></th>\n",
       "      <th></th>\n",
       "      <th></th>\n",
       "    </tr>\n",
       "  </thead>\n",
       "  <tbody>\n",
       "    <tr>\n",
       "      <th>ll-128relu-64relu-4linear-nl1-epochs1-lb30000-bs32-model-1410</th>\n",
       "      <td>NaN</td>\n",
       "      <td>NaN</td>\n",
       "      <td>NaN</td>\n",
       "      <td>100.0</td>\n",
       "    </tr>\n",
       "    <tr>\n",
       "      <th>ll-128relu-64relu-4linear-nl1-epochs1-lb30000-bs32-model-2010</th>\n",
       "      <td>NaN</td>\n",
       "      <td>NaN</td>\n",
       "      <td>NaN</td>\n",
       "      <td>100.0</td>\n",
       "    </tr>\n",
       "  </tbody>\n",
       "</table>\n",
       "</div>"
      ],
      "text/plain": [
       "reward_cat                                          neg  pos  supneg  suppos\n",
       "model                                                                       \n",
       "ll-128relu-64relu-4linear-nl1-epochs1-lb30000-b...  NaN  NaN     NaN   100.0\n",
       "ll-128relu-64relu-4linear-nl1-epochs1-lb30000-b...  NaN  NaN     NaN   100.0"
      ]
     },
     "execution_count": 18,
     "metadata": {},
     "output_type": "execute_result"
    }
   ],
   "source": [
    "lrhist[lrhist['suppos'] == N]"
   ]
  },
  {
   "cell_type": "markdown",
   "metadata": {},
   "source": [
    "Getting the summarized rewards for the each test and grouping by the models:"
   ]
  },
  {
   "cell_type": "code",
   "execution_count": 19,
   "metadata": {},
   "outputs": [],
   "source": [
    "sr = pd.DataFrame()\n",
    "sr['sumreward'] = df.groupby(['model', 'episode'])['reward'].sum()\n",
    "sr = sr.reset_index()"
   ]
  },
  {
   "cell_type": "markdown",
   "metadata": {},
   "source": [
    "Creating bins/histograms for the summarized rewards:"
   ]
  },
  {
   "cell_type": "code",
   "execution_count": 20,
   "metadata": {},
   "outputs": [],
   "source": [
    "sr_bins = [-np.inf, 0, 200-np.finfo(np.float).eps, np.inf]\n",
    "sr_groups = sr.groupby(['model'])\n",
    "sr['sr_cat'] = sr_groups['sumreward'].apply(pd.cut, bins=sr_bins, labels=['neg', 'pos', 'suppos'])"
   ]
  },
  {
   "cell_type": "code",
   "execution_count": 21,
   "metadata": {},
   "outputs": [
    {
     "data": {
      "text/html": [
       "<div>\n",
       "<style>\n",
       "    .dataframe thead tr:only-child th {\n",
       "        text-align: right;\n",
       "    }\n",
       "\n",
       "    .dataframe thead th {\n",
       "        text-align: left;\n",
       "    }\n",
       "\n",
       "    .dataframe tbody tr th {\n",
       "        vertical-align: top;\n",
       "    }\n",
       "</style>\n",
       "<table border=\"1\" class=\"dataframe\">\n",
       "  <thead>\n",
       "    <tr style=\"text-align: right;\">\n",
       "      <th>sr_cat</th>\n",
       "      <th>neg</th>\n",
       "      <th>pos</th>\n",
       "      <th>suppos</th>\n",
       "    </tr>\n",
       "    <tr>\n",
       "      <th>model</th>\n",
       "      <th></th>\n",
       "      <th></th>\n",
       "      <th></th>\n",
       "    </tr>\n",
       "  </thead>\n",
       "  <tbody>\n",
       "    <tr>\n",
       "      <th>ll-128relu-64relu-4linear-nl1-epochs1-lb30000-bs32-model-1010</th>\n",
       "      <td>2.0</td>\n",
       "      <td>9.0</td>\n",
       "      <td>89.0</td>\n",
       "    </tr>\n",
       "    <tr>\n",
       "      <th>ll-128relu-64relu-4linear-nl1-epochs1-lb30000-bs32-model-1410</th>\n",
       "      <td>NaN</td>\n",
       "      <td>NaN</td>\n",
       "      <td>100.0</td>\n",
       "    </tr>\n",
       "    <tr>\n",
       "      <th>ll-128relu-64relu-4linear-nl1-epochs1-lb30000-bs32-model-1610</th>\n",
       "      <td>NaN</td>\n",
       "      <td>9.0</td>\n",
       "      <td>91.0</td>\n",
       "    </tr>\n",
       "    <tr>\n",
       "      <th>ll-128relu-64relu-4linear-nl1-epochs1-lb30000-bs32-model-1810</th>\n",
       "      <td>NaN</td>\n",
       "      <td>2.0</td>\n",
       "      <td>98.0</td>\n",
       "    </tr>\n",
       "    <tr>\n",
       "      <th>ll-128relu-64relu-4linear-nl1-epochs1-lb30000-bs32-model-2010</th>\n",
       "      <td>NaN</td>\n",
       "      <td>NaN</td>\n",
       "      <td>100.0</td>\n",
       "    </tr>\n",
       "  </tbody>\n",
       "</table>\n",
       "</div>"
      ],
      "text/plain": [
       "sr_cat                                              neg  pos  suppos\n",
       "model                                                               \n",
       "ll-128relu-64relu-4linear-nl1-epochs1-lb30000-b...  2.0  9.0    89.0\n",
       "ll-128relu-64relu-4linear-nl1-epochs1-lb30000-b...  NaN  NaN   100.0\n",
       "ll-128relu-64relu-4linear-nl1-epochs1-lb30000-b...  NaN  9.0    91.0\n",
       "ll-128relu-64relu-4linear-nl1-epochs1-lb30000-b...  NaN  2.0    98.0\n",
       "ll-128relu-64relu-4linear-nl1-epochs1-lb30000-b...  NaN  NaN   100.0"
      ]
     },
     "execution_count": 21,
     "metadata": {},
     "output_type": "execute_result"
    }
   ],
   "source": [
    "srhist = sr.groupby('model')['sr_cat'].value_counts().unstack()\n",
    "srhist.head(5)"
   ]
  },
  {
   "cell_type": "markdown",
   "metadata": {},
   "source": [
    "### The models that only have the summarized rewards bigger than 200"
   ]
  },
  {
   "cell_type": "code",
   "execution_count": 22,
   "metadata": {},
   "outputs": [
    {
     "data": {
      "text/html": [
       "<div>\n",
       "<style>\n",
       "    .dataframe thead tr:only-child th {\n",
       "        text-align: right;\n",
       "    }\n",
       "\n",
       "    .dataframe thead th {\n",
       "        text-align: left;\n",
       "    }\n",
       "\n",
       "    .dataframe tbody tr th {\n",
       "        vertical-align: top;\n",
       "    }\n",
       "</style>\n",
       "<table border=\"1\" class=\"dataframe\">\n",
       "  <thead>\n",
       "    <tr style=\"text-align: right;\">\n",
       "      <th>sr_cat</th>\n",
       "      <th>neg</th>\n",
       "      <th>pos</th>\n",
       "      <th>suppos</th>\n",
       "    </tr>\n",
       "    <tr>\n",
       "      <th>model</th>\n",
       "      <th></th>\n",
       "      <th></th>\n",
       "      <th></th>\n",
       "    </tr>\n",
       "  </thead>\n",
       "  <tbody>\n",
       "    <tr>\n",
       "      <th>ll-128relu-64relu-4linear-nl1-epochs1-lb30000-bs32-model-1410</th>\n",
       "      <td>NaN</td>\n",
       "      <td>NaN</td>\n",
       "      <td>100.0</td>\n",
       "    </tr>\n",
       "    <tr>\n",
       "      <th>ll-128relu-64relu-4linear-nl1-epochs1-lb30000-bs32-model-2010</th>\n",
       "      <td>NaN</td>\n",
       "      <td>NaN</td>\n",
       "      <td>100.0</td>\n",
       "    </tr>\n",
       "  </tbody>\n",
       "</table>\n",
       "</div>"
      ],
      "text/plain": [
       "sr_cat                                              neg  pos  suppos\n",
       "model                                                               \n",
       "ll-128relu-64relu-4linear-nl1-epochs1-lb30000-b...  NaN  NaN   100.0\n",
       "ll-128relu-64relu-4linear-nl1-epochs1-lb30000-b...  NaN  NaN   100.0"
      ]
     },
     "execution_count": 22,
     "metadata": {},
     "output_type": "execute_result"
    }
   ],
   "source": [
    "srhist[srhist['suppos'] == N]"
   ]
  },
  {
   "cell_type": "markdown",
   "metadata": {},
   "source": [
    "Visualization of the distribution of summarized rewards for the each models/episodes: "
   ]
  },
  {
   "cell_type": "code",
   "execution_count": 23,
   "metadata": {},
   "outputs": [
    {
     "data": {
      "text/plain": [
       "<matplotlib.axes._subplots.AxesSubplot at 0x7f931ceddd68>"
      ]
     },
     "execution_count": 23,
     "metadata": {},
     "output_type": "execute_result"
    },
    {
     "data": {
      "image/png": "[encoded data removed]",
      "text/plain": [
       "<Figure size 842.4x595.44 with 1 Axes>"
      ]
     },
     "metadata": {},
     "output_type": "display_data"
    }
   ],
   "source": [
    "sns.set(rc={'figure.figsize':(11.7,8.27)})\n",
    "sns.set_style(\"whitegrid\", {'grid.linestyle': '--'})\n",
    "sns.violinplot(x='sumreward', y='model', data=sr, inner='quartile')"
   ]
  },
  {
   "cell_type": "markdown",
   "metadata": {},
   "source": [
    "### Minimal rewards of models"
   ]
  },
  {
   "cell_type": "code",
   "execution_count": 44,
   "metadata": {},
   "outputs": [
    {
     "data": {
      "text/html": [
       "<div>\n",
       "<style>\n",
       "    .dataframe thead tr:only-child th {\n",
       "        text-align: right;\n",
       "    }\n",
       "\n",
       "    .dataframe thead th {\n",
       "        text-align: left;\n",
       "    }\n",
       "\n",
       "    .dataframe tbody tr th {\n",
       "        vertical-align: top;\n",
       "    }\n",
       "</style>\n",
       "<table border=\"1\" class=\"dataframe\">\n",
       "  <thead>\n",
       "    <tr style=\"text-align: right;\">\n",
       "      <th></th>\n",
       "      <th>episode</th>\n",
       "      <th>sumreward</th>\n",
       "      <th>sr_cat</th>\n",
       "    </tr>\n",
       "    <tr>\n",
       "      <th>model</th>\n",
       "      <th></th>\n",
       "      <th></th>\n",
       "      <th></th>\n",
       "    </tr>\n",
       "  </thead>\n",
       "  <tbody>\n",
       "    <tr>\n",
       "      <th>ll-128relu-64relu-4linear-nl1-epochs1-lb30000-bs32-model-2010</th>\n",
       "      <td>0</td>\n",
       "      <td>229.980929</td>\n",
       "      <td>suppos</td>\n",
       "    </tr>\n",
       "    <tr>\n",
       "      <th>ll-128relu-64relu-4linear-nl1-epochs1-lb30000-bs32-model-1410</th>\n",
       "      <td>0</td>\n",
       "      <td>226.773341</td>\n",
       "      <td>suppos</td>\n",
       "    </tr>\n",
       "    <tr>\n",
       "      <th>ll-128relu-64relu-4linear-nl1-epochs1-lb30000-bs32-model-1810</th>\n",
       "      <td>0</td>\n",
       "      <td>159.111153</td>\n",
       "      <td>pos</td>\n",
       "    </tr>\n",
       "    <tr>\n",
       "      <th>ll-128relu-64relu-4linear-nl1-epochs1-lb30000-bs32-model-1610</th>\n",
       "      <td>0</td>\n",
       "      <td>120.745474</td>\n",
       "      <td>pos</td>\n",
       "    </tr>\n",
       "    <tr>\n",
       "      <th>ll-128relu-64relu-4linear-nl1-epochs1-lb30000-bs32-model-410</th>\n",
       "      <td>0</td>\n",
       "      <td>-87.228161</td>\n",
       "      <td>neg</td>\n",
       "    </tr>\n",
       "    <tr>\n",
       "      <th>ll-128relu-64relu-4linear-nl1-epochs1-lb30000-bs32-model-1010</th>\n",
       "      <td>0</td>\n",
       "      <td>-180.545205</td>\n",
       "      <td>neg</td>\n",
       "    </tr>\n",
       "  </tbody>\n",
       "</table>\n",
       "</div>"
      ],
      "text/plain": [
       "                                                    episode   sumreward  \\\n",
       "model                                                                     \n",
       "ll-128relu-64relu-4linear-nl1-epochs1-lb30000-b...        0  229.980929   \n",
       "ll-128relu-64relu-4linear-nl1-epochs1-lb30000-b...        0  226.773341   \n",
       "ll-128relu-64relu-4linear-nl1-epochs1-lb30000-b...        0  159.111153   \n",
       "ll-128relu-64relu-4linear-nl1-epochs1-lb30000-b...        0  120.745474   \n",
       "ll-128relu-64relu-4linear-nl1-epochs1-lb30000-b...        0  -87.228161   \n",
       "ll-128relu-64relu-4linear-nl1-epochs1-lb30000-b...        0 -180.545205   \n",
       "\n",
       "                                                    sr_cat  \n",
       "model                                                       \n",
       "ll-128relu-64relu-4linear-nl1-epochs1-lb30000-b...  suppos  \n",
       "ll-128relu-64relu-4linear-nl1-epochs1-lb30000-b...  suppos  \n",
       "ll-128relu-64relu-4linear-nl1-epochs1-lb30000-b...     pos  \n",
       "ll-128relu-64relu-4linear-nl1-epochs1-lb30000-b...     pos  \n",
       "ll-128relu-64relu-4linear-nl1-epochs1-lb30000-b...     neg  \n",
       "ll-128relu-64relu-4linear-nl1-epochs1-lb30000-b...     neg  "
      ]
     },
     "execution_count": 44,
     "metadata": {},
     "output_type": "execute_result"
    }
   ],
   "source": [
    "sr.groupby('model').min().sort_values(['sumreward'], ascending=False)"
   ]
  },
  {
   "cell_type": "markdown",
   "metadata": {},
   "source": [
    "### Maximal rewards of models"
   ]
  },
  {
   "cell_type": "code",
   "execution_count": 45,
   "metadata": {},
   "outputs": [
    {
     "data": {
      "text/html": [
       "<div>\n",
       "<style>\n",
       "    .dataframe thead tr:only-child th {\n",
       "        text-align: right;\n",
       "    }\n",
       "\n",
       "    .dataframe thead th {\n",
       "        text-align: left;\n",
       "    }\n",
       "\n",
       "    .dataframe tbody tr th {\n",
       "        vertical-align: top;\n",
       "    }\n",
       "</style>\n",
       "<table border=\"1\" class=\"dataframe\">\n",
       "  <thead>\n",
       "    <tr style=\"text-align: right;\">\n",
       "      <th></th>\n",
       "      <th>episode</th>\n",
       "      <th>sumreward</th>\n",
       "      <th>sr_cat</th>\n",
       "    </tr>\n",
       "    <tr>\n",
       "      <th>model</th>\n",
       "      <th></th>\n",
       "      <th></th>\n",
       "      <th></th>\n",
       "    </tr>\n",
       "  </thead>\n",
       "  <tbody>\n",
       "    <tr>\n",
       "      <th>ll-128relu-64relu-4linear-nl1-epochs1-lb30000-bs32-model-1010</th>\n",
       "      <td>99</td>\n",
       "      <td>317.687348</td>\n",
       "      <td>suppos</td>\n",
       "    </tr>\n",
       "    <tr>\n",
       "      <th>ll-128relu-64relu-4linear-nl1-epochs1-lb30000-bs32-model-1610</th>\n",
       "      <td>99</td>\n",
       "      <td>314.416391</td>\n",
       "      <td>suppos</td>\n",
       "    </tr>\n",
       "    <tr>\n",
       "      <th>ll-128relu-64relu-4linear-nl1-epochs1-lb30000-bs32-model-1410</th>\n",
       "      <td>99</td>\n",
       "      <td>311.419706</td>\n",
       "      <td>suppos</td>\n",
       "    </tr>\n",
       "    <tr>\n",
       "      <th>ll-128relu-64relu-4linear-nl1-epochs1-lb30000-bs32-model-1810</th>\n",
       "      <td>99</td>\n",
       "      <td>303.393806</td>\n",
       "      <td>suppos</td>\n",
       "    </tr>\n",
       "    <tr>\n",
       "      <th>ll-128relu-64relu-4linear-nl1-epochs1-lb30000-bs32-model-2010</th>\n",
       "      <td>99</td>\n",
       "      <td>300.146494</td>\n",
       "      <td>suppos</td>\n",
       "    </tr>\n",
       "    <tr>\n",
       "      <th>ll-128relu-64relu-4linear-nl1-epochs1-lb30000-bs32-model-410</th>\n",
       "      <td>99</td>\n",
       "      <td>243.872908</td>\n",
       "      <td>suppos</td>\n",
       "    </tr>\n",
       "  </tbody>\n",
       "</table>\n",
       "</div>"
      ],
      "text/plain": [
       "                                                    episode   sumreward  \\\n",
       "model                                                                     \n",
       "ll-128relu-64relu-4linear-nl1-epochs1-lb30000-b...       99  317.687348   \n",
       "ll-128relu-64relu-4linear-nl1-epochs1-lb30000-b...       99  314.416391   \n",
       "ll-128relu-64relu-4linear-nl1-epochs1-lb30000-b...       99  311.419706   \n",
       "ll-128relu-64relu-4linear-nl1-epochs1-lb30000-b...       99  303.393806   \n",
       "ll-128relu-64relu-4linear-nl1-epochs1-lb30000-b...       99  300.146494   \n",
       "ll-128relu-64relu-4linear-nl1-epochs1-lb30000-b...       99  243.872908   \n",
       "\n",
       "                                                    sr_cat  \n",
       "model                                                       \n",
       "ll-128relu-64relu-4linear-nl1-epochs1-lb30000-b...  suppos  \n",
       "ll-128relu-64relu-4linear-nl1-epochs1-lb30000-b...  suppos  \n",
       "ll-128relu-64relu-4linear-nl1-epochs1-lb30000-b...  suppos  \n",
       "ll-128relu-64relu-4linear-nl1-epochs1-lb30000-b...  suppos  \n",
       "ll-128relu-64relu-4linear-nl1-epochs1-lb30000-b...  suppos  \n",
       "ll-128relu-64relu-4linear-nl1-epochs1-lb30000-b...  suppos  "
      ]
     },
     "execution_count": 45,
     "metadata": {},
     "output_type": "execute_result"
    }
   ],
   "source": [
    "sr.groupby('model').max().sort_values(['sumreward'], ascending=False)"
   ]
  },
  {
   "cell_type": "code",
   "execution_count": 9,
   "metadata": {},
   "outputs": [],
   "source": [
    "model = load_model('models/ll-128relu-64relu-4linear-nl1-epochs1-lb30000-bs32-model-1410.h5')"
   ]
  },
  {
   "cell_type": "code",
   "execution_count": 10,
   "metadata": {},
   "outputs": [
    {
     "name": "stdout",
     "output_type": "stream",
     "text": [
      "R: 315.0535930887596, r: 100\n"
     ]
    }
   ],
   "source": [
    "env = gym.make('LunarLander-v2')\n",
    "env.mode = 'human'\n",
    "s = env.reset()\n",
    "s = s.reshape(1, 8)\n",
    "#env.render()\n",
    "done = False\n",
    "r_sum = 0\n",
    "while not done:\n",
    "    s_pred = model.predict(s)\n",
    "    a = np.argmax(s_pred)\n",
    "    new_s, r, done, _ = env.step(a)\n",
    "    #env.render()\n",
    "    s = new_s.reshape(1, 8)\n",
    "    r_sum += r\n",
    "    \n",
    "print(f'R: {r_sum}, r: {r}')"
   ]
  },
  {
   "cell_type": "code",
   "execution_count": 10,
   "metadata": {},
   "outputs": [],
   "source": [
    "env.close()"
   ]
  },
  {
   "cell_type": "code",
   "execution_count": 11,
   "metadata": {},
   "outputs": [],
   "source": [
    "model = load_model('models/ll-128relu-64relu-4linear-nl1-epochs1-lb30000-bs32-model-2010.h5')"
   ]
  },
  {
   "cell_type": "code",
   "execution_count": 12,
   "metadata": {},
   "outputs": [
    {
     "name": "stdout",
     "output_type": "stream",
     "text": [
      "R: 256.658205470644, r: 100\n"
     ]
    }
   ],
   "source": [
    "env = gym.make('LunarLander-v2')\n",
    "# env.mode = 'human'\n",
    "s = env.reset()\n",
    "s = s.reshape(1, 8)\n",
    "env.render()\n",
    "done = False\n",
    "r_sum = 0\n",
    "while not done:\n",
    "    s_pred = model.predict(s)\n",
    "    a = np.argmax(s_pred)\n",
    "    new_s, r, done, _ = env.step(a)\n",
    "    env.render()\n",
    "    s = new_s.reshape(1, 8)\n",
    "    r_sum += r\n",
    "print(f'R: {r_sum}, r: {r}')"
   ]
  },
  {
   "cell_type": "code",
   "execution_count": 13,
   "metadata": {},
   "outputs": [],
   "source": [
    "env.close()"
   ]
  },
  {
   "cell_type": "markdown",
   "metadata": {},
   "source": [
    "## Conclusion\n",
    "The agent reached a good level of the performance around 400th episode of the training but sometimes did mistakes. Then, espacialy after the 1010th episode, it looks that the agent was trying to find out optimal balance between maximal performance and a stable result."
   ]
  },
  {
   "cell_type": "code",
   "execution_count": null,
   "metadata": {},
   "outputs": [],
   "source": []
  }
 ],
 "metadata": {
  "kernelspec": {
   "display_name": "Python 3",
   "language": "python",
   "name": "python3"
  },
  "language_info": {
   "codemirror_mode": {
    "name": "ipython",
    "version": 3
   },
   "file_extension": ".py",
   "mimetype": "text/x-python",
   "name": "python",
   "nbconvert_exporter": "python",
   "pygments_lexer": "ipython3",
   "version": "3.6.7"
  }
 },
 "nbformat": 4,
 "nbformat_minor": 2
}
